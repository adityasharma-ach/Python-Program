{
 "cells": [
  {
   "cell_type": "code",
   "execution_count": 1,
   "id": "923d716d",
   "metadata": {},
   "outputs": [
    {
     "name": "stdout",
     "output_type": "stream",
     "text": [
      "Start 300 Python Program for AI/DS/ML\n"
     ]
    }
   ],
   "source": [
    "print(f\"Start {3*100} Python Program for AI/DS/ML\")"
   ]
  },
  {
   "cell_type": "code",
   "execution_count": null,
   "id": "2121b65d",
   "metadata": {},
   "outputs": [],
   "source": []
  }
 ],
 "metadata": {
  "kernelspec": {
   "display_name": "Python 3",
   "language": "python",
   "name": "python3"
  },
  "language_info": {
   "codemirror_mode": {
    "name": "ipython",
    "version": 3
   },
   "file_extension": ".py",
   "mimetype": "text/x-python",
   "name": "python",
   "nbconvert_exporter": "python",
   "pygments_lexer": "ipython3",
   "version": "3.10.0"
  }
 },
 "nbformat": 4,
 "nbformat_minor": 5
}
